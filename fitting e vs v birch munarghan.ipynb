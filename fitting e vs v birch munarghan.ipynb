{
 "cells": [
  {
   "cell_type": "code",
   "execution_count": 2,
   "metadata": {},
   "outputs": [],
   "source": [
    "from numpy import loadtxt\n",
    "data = loadtxt('jaroE-V.dat')\n",
    "k='jarosite '"
   ]
  },
  {
   "cell_type": "code",
   "execution_count": null,
   "metadata": {},
   "outputs": [],
   "source": []
  },
  {
   "cell_type": "code",
   "execution_count": 3,
   "metadata": {},
   "outputs": [
    {
     "name": "stdout",
     "output_type": "stream",
     "text": [
      "[702. 780. 795. 810. 830. 858. 936.]\n",
      "[-467.156 -469.389 -469.594 -469.695 -469.688 -469.482 -468.246]\n",
      "7\n",
      "<class 'numpy.ndarray'>\n",
      "7\n"
     ]
    }
   ],
   "source": [
    "x = data[:, 0]\n",
    "y = data[:, 1]\n",
    "print(x)\n",
    "print(y)\n",
    "print(len(x))\n",
    "print(type(x))\n",
    "print(len(y))"
   ]
  },
  {
   "cell_type": "code",
   "execution_count": 4,
   "metadata": {},
   "outputs": [
    {
     "name": "stdout",
     "output_type": "stream",
     "text": [
      "E0=-469.68410531496136 eV\n",
      "B0=37.00046157228206 GPa\n",
      "Bp=-0.09968360702481688\n",
      "V0=821.210046935272 ang\n"
     ]
    },
    {
     "data": {
      "image/png": "[encoded data removed]",
      "text/plain": [
       "<Figure size 432x288 with 1 Axes>"
      ]
     },
     "metadata": {
      "needs_background": "light"
     },
     "output_type": "display_data"
    }
   ],
   "source": [
    "\n",
    "\n",
    "import sys, numpy, math\n",
    "from scipy.optimize import leastsq\n",
    "\n",
    "\n",
    "\n",
    "\n",
    "# Birch-Murnaghan equation of state\n",
    "def eos_birch_murnaghan(params, vol):\n",
    "    \n",
    "    E0, B0, Bp, V0 = params \n",
    "    eta = (vol/V0)**(1.0/3.0)\n",
    "    E = E0 + 9.0*B0*V0/16.0 * (eta**2-1.0)**2 * (6.0 + Bp*(eta**2-1.0) - 4.0*eta**2)\n",
    "    return E\n",
    "\n",
    "\n",
    "\n",
    "\n",
    "\n",
    "# Customized input with default and accepted values\n",
    "def myinput(prompt, default, accepted):\n",
    "    while True:\n",
    "        res = raw_input(prompt + \" [default=%s]: \" % (default))\n",
    "        if res == '': res = default\n",
    "        if res in accepted:\n",
    "            break\n",
    "        else:\n",
    "            print (\"accepted values:\", accepted)\n",
    "    return res\n",
    "\n",
    "\n",
    "\n",
    "vol=x\n",
    "ene=y\n",
    "\n",
    "\n",
    "\n",
    "# and bulk modulus\n",
    "a, b, c = numpy.polyfit(vol, ene, 2)\n",
    "V0 = -b/(2*a)\n",
    "E0 = a*V0**2 + b*V0 + c\n",
    "B0 = 2*a*V0\n",
    "Bp = 4.0\n",
    "\n",
    "# initial guesses in the same order used in the Murnaghan function\n",
    "x0 = [E0, B0, Bp, V0]\n",
    "\n",
    "def print_params(label, params):\n",
    "    E0, B0, Bp, V0 = params\n",
    "    print ('E0='+str(E0)+' eV')\n",
    "    print ('B0='+str(B0*160.21765)+' GPa' )\n",
    "    print ('Bp='+str(Bp))\n",
    "    print ('V0='+str(V0)+' ang')\n",
    "\n",
    "   \n",
    "\n",
    "\n",
    "\n",
    "target = lambda params, y, x: y - eos_birch_murnaghan(params, x)\n",
    "birch_murn, ier = leastsq(target, x0, args=(ene,vol))\n",
    "print_params(\"Birch-Murnaghan\", birch_murn)\n",
    "\n",
    "\n",
    "\n",
    "\n",
    "try:\n",
    "    import pylab\n",
    "except ImportError:\n",
    "    sys.stderr.write(\"pylab module non available, skipping plot\")\n",
    "    sys.exit(0)\n",
    "\n",
    "\n",
    "\n",
    "import pylab\n",
    "vfit = numpy.linspace(min(vol),max(vol),100)\n",
    "\n",
    "pylab.scatter(vol,ene)\n",
    "pylab.plot(vfit, eos_birch_murnaghan(birch_murn,vfit), label='Birch-Murnaghan')\n",
    "\n",
    "\n",
    "\n",
    "pylab.xlabel('Volume ($\\AA^3$)')\n",
    "pylab.ylabel('Energy (eV)')\n",
    "pylab.legend(loc='best')\n",
    "from matplotlib import pyplot as plt\n",
    "t=k+ 'e-v.png'\n",
    "plt.savefig(t,dpi=500,transparent= False,facecolor='w', edgecolor='w')\n",
    "pylab.show()\n",
    "\n",
    "quit()"
   ]
  },
  {
   "cell_type": "code",
   "execution_count": null,
   "metadata": {},
   "outputs": [],
   "source": []
  }
 ],
 "metadata": {
  "kernelspec": {
   "display_name": "Python 3",
   "language": "python",
   "name": "python3"
  },
  "language_info": {
   "codemirror_mode": {
    "name": "ipython",
    "version": 3
   },
   "file_extension": ".py",
   "mimetype": "text/x-python",
   "name": "python",
   "nbconvert_exporter": "python",
   "pygments_lexer": "ipython3",
   "version": "3.8.5"
  }
 },
 "nbformat": 4,
 "nbformat_minor": 4
}
